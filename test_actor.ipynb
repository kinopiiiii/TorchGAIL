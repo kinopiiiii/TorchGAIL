{
 "cells": [
  {
   "cell_type": "code",
   "execution_count": null,
   "metadata": {},
   "outputs": [],
   "source": [
    "import sys\n",
    "import math\n",
    "import random\n",
    "import time\n",
    "from jupyterthemes import jtplot\n",
    "\n",
    "import gym\n",
    "import numpy as np\n",
    "\n",
    "import torch\n",
    "import torch.nn as nn\n",
    "import torch.optim as optim\n",
    "import torch.nn.functional as F\n",
    "from torch.distributions import Normal\n",
    "\n",
    "from IPython.display import clear_output\n",
    "import matplotlib.pyplot as plt\n",
    "%matplotlib inline\n",
    "gym.logger.set_level(40)\n",
    "jtplot.style()\n",
    "torch.backends.cudnn.benchmark = True\n",
    "\n",
    "use_cuda = torch.cuda.is_available()\n",
    "device   = torch.device(\"cuda\" if use_cuda else \"cpu\")"
   ]
  },
  {
   "cell_type": "code",
   "execution_count": null,
   "metadata": {},
   "outputs": [],
   "source": [
    "from common.multiprocessing_env import SubprocVecEnv\n",
    "\n",
    "num_envs = 1\n",
    "#env_name = \"Pendulum-v0\"\n",
    "env_name = \"BipedalWalker-v2\"\n",
    "\n",
    "def make_env():\n",
    "    def _thunk():\n",
    "        env = gym.make(env_name)\n",
    "        return env\n",
    "\n",
    "    return _thunk\n",
    "\n",
    "envs = [make_env() for i in range(num_envs)]\n",
    "envs = SubprocVecEnv(envs)\n",
    "env = gym.make(env_name)\n",
    "\n",
    "num_inputs  = envs.observation_space.shape[0]\n",
    "num_outputs = envs.action_space.shape[0]\n",
    "num_codes = 2\n",
    "\n",
    "a2c_hidden_size       = 128"
   ]
  },
  {
   "cell_type": "code",
   "execution_count": null,
   "metadata": {},
   "outputs": [],
   "source": [
    "def init_weights(m):\n",
    "    if isinstance(m, nn.Linear):\n",
    "        nn.init.normal_(m.weight, mean=0., std=0.1)\n",
    "        nn.init.constant_(m.bias, 0.1)\n",
    "        \n",
    "class Actor(nn.Module):\n",
    "    def __init__(self, num_inputs, num_outputs, num_codes, hidden_size, std=0.0):\n",
    "        super(Actor, self).__init__()\n",
    "        \n",
    "        self.linear1  = nn.Linear(num_inputs, hidden_size)\n",
    "        self.linear2  = nn.Linear(hidden_size, hidden_size)\n",
    "        self.linear_code  = nn.Linear(num_codes, hidden_size)\n",
    "        self.linear_actor  = nn.Linear(hidden_size*2, num_outputs)\n",
    "        self.log_std = nn.Parameter(torch.ones(1, num_outputs) * std)\n",
    "        self.apply(init_weights)\n",
    "        \n",
    "    def forward(self, x, c):\n",
    "        x = F.tanh(self.linear1(x))\n",
    "        x = F.tanh(self.linear2(x))\n",
    "        c = F.tanh(self.linear_code(c))\n",
    "        mu = self.linear_actor(torch.cat([x,c],1))\n",
    "        std   = self.log_std.exp().expand_as(mu)\n",
    "        dist  = Normal(mu, std)\n",
    "        return dist"
   ]
  },
  {
   "cell_type": "code",
   "execution_count": null,
   "metadata": {},
   "outputs": [],
   "source": [
    "def test_env(vis=False, code=0):\n",
    "    state = env.reset()\n",
    "    if vis: env.render()\n",
    "    done = False\n",
    "    total_reward = 0\n",
    "\n",
    "    onehot_code = torch.zeros([num_envs, num_codes]).to(device)\n",
    "    onehot_code[:, code] = 1\n",
    "\n",
    "    while not done:\n",
    "        state = torch.FloatTensor(state).unsqueeze(0).to(device)\n",
    "        dist = actor(state, onehot_code)\n",
    "        #next_state, reward, done, _ = env.step(dist.sample().cpu().numpy()[0])\n",
    "        next_state, reward, done, _ = env.step(dist.mean.detach().cpu().numpy()[0])\n",
    "        state = next_state\n",
    "        if vis: env.render()\n",
    "        total_reward += reward\n",
    "    return total_reward"
   ]
  },
  {
   "cell_type": "code",
   "execution_count": null,
   "metadata": {},
   "outputs": [],
   "source": [
    "actor = Actor(num_inputs, num_outputs, num_codes, a2c_hidden_size).to(device)\n",
    "param = torch.load('asset/infoGAIL/4000-500-5-1/infoGAIL_actor.pth')\n",
    "actor.load_state_dict(param)\n",
    "test_env(True,1)"
   ]
  }
 ],
 "metadata": {
  "kernelspec": {
   "display_name": "RL-a",
   "language": "python",
   "name": "rl-a"
  },
  "language_info": {
   "codemirror_mode": {
    "name": "ipython",
    "version": 3
   },
   "file_extension": ".py",
   "mimetype": "text/x-python",
   "name": "python",
   "nbconvert_exporter": "python",
   "pygments_lexer": "ipython3",
   "version": "3.6.5"
  }
 },
 "nbformat": 4,
 "nbformat_minor": 2
}
