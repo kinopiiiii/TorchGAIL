{
 "cells": [
  {
   "cell_type": "code",
   "execution_count": 1,
   "metadata": {},
   "outputs": [],
   "source": [
    "import math\n",
    "import random\n",
    "import time\n",
    "from jupyterthemes import jtplot\n",
    "from tqdm import tqdm_notebook as tqdm\n",
    "\n",
    "import gym\n",
    "import numpy as np\n",
    "\n",
    "import torch\n",
    "import torch.nn as nn\n",
    "import torch.optim as optim\n",
    "import torch.nn.functional as F\n",
    "from torch.distributions import Normal\n",
    "\n",
    "from IPython.display import clear_output\n",
    "import matplotlib.pyplot as plt\n",
    "%matplotlib inline\n",
    "gym.logger.set_level(40)\n",
    "jtplot.style()\n",
    "torch.backends.cudnn.benchmark = True\n",
    "\n",
    "use_cuda = torch.cuda.is_available()\n",
    "device   = torch.device(\"cuda\" if use_cuda else \"cpu\")\n",
    "\n",
    "from common.common_sac import NormalizedActions, ReplayBuffer, ValueNetwork, SoftQNetwork, PolicyNetwork"
   ]
  },
  {
   "cell_type": "code",
   "execution_count": 2,
   "metadata": {},
   "outputs": [
    {
     "name": "stdout",
     "output_type": "stream",
     "text": [
      "Normalize: True\n",
      "states,actions: 23 7\n"
     ]
    }
   ],
   "source": [
    "normalize = True\n",
    "env_name = \"Pusher-v2\"\n",
    "#env_name = \"BipedalWalker-v2\"\n",
    "#env = gym.make(env_name)\n",
    "\n",
    "if normalize:\n",
    "    env = NormalizedActions(gym.make(env_name))\n",
    "\n",
    "else:\n",
    "    env = gym.make(env_name)\n",
    "#env = NormalizedActions(gym.make(env_name))\n",
    "\n",
    "\n",
    "num_inputs  = env.observation_space.shape[0]\n",
    "state_dim  = env.observation_space.shape[0]\n",
    "num_outputs = env.action_space.shape[0]\n",
    "action_dim = env.action_space.shape[0]\n",
    "\n",
    "if env_name == \"BipedalWalker-v2\":\n",
    "    num_steps = 2000\n",
    "    expert_traj = np.load(\"trajectory/BipedalWalker_100.npy\")\n",
    "    min_buffer_size      = 4000\n",
    "    batch_size           = 500\n",
    "\n",
    "if env_name == \"Pendulum-v0\":\n",
    "    num_steps = 200\n",
    "    expert_traj = np.load(\"trajectory/Pendulum_SAC_50000_-153.npy\")\n",
    "    min_buffer_size      = 1000\n",
    "    batch_size           = 256\n",
    "\n",
    "if env_name == \"Pusher-v2\":\n",
    "    num_steps = 100\n",
    "    expert_traj = np.load(\"trajectory/Pusher-v2_PPO_-32.npy\")\n",
    "    min_buffer_size      = 1000\n",
    "    batch_size           = 256\n",
    "    \n",
    "#Hyper params:\n",
    "hidden_dim           = 128\n",
    "#a2c_hidden_size      = 128\n",
    "discrim_hidden_size  = 128\n",
    "lr                   = 3e-4\n",
    "num_G_updates        = 5\n",
    "num_D_updates        = 1\n",
    "\n",
    "print(\"Normalize:\",normalize)\n",
    "print(\"states,actions:\",num_inputs,num_outputs)"
   ]
  },
  {
   "cell_type": "code",
   "execution_count": 3,
   "metadata": {},
   "outputs": [],
   "source": [
    "def soft_q_update(batch_size, \n",
    "           gamma=0.99,\n",
    "           mean_lambda=1e-3,\n",
    "           std_lambda=1e-3,\n",
    "           z_lambda=0.0,\n",
    "           soft_tau=0.1,\n",
    "          ):\n",
    "    state, action, reward, next_state, done = replay_buffer.sample(batch_size)\n",
    "    \n",
    "    state      = torch.FloatTensor(state).to(device)\n",
    "    next_state = torch.FloatTensor(next_state).to(device)\n",
    "    action     = torch.FloatTensor(action).to(device)\n",
    "    reward     = torch.FloatTensor(reward).unsqueeze(1).to(device)\n",
    "    done       = torch.FloatTensor(np.float32(done)).unsqueeze(1).to(device)\n",
    "    \n",
    "    #最新の報酬を利用\n",
    "#    print(reward.shape)\n",
    "    reward = expert_reward(state, action)\n",
    "    reward = torch.FloatTensor(reward).to(device)\n",
    "    \n",
    "    expected_q_value = soft_q_net(state, action)\n",
    "    expected_value   = value_net(state)\n",
    "    new_action, log_prob, z, mean, log_std = policy_net.evaluate(state)\n",
    "\n",
    "\n",
    "    target_value = target_value_net(next_state)\n",
    "    next_q_value = reward + (1 - done) * gamma * target_value\n",
    "    q_value_loss = soft_q_criterion(expected_q_value, next_q_value.detach())\n",
    "\n",
    "    expected_new_q_value = soft_q_net(state, new_action)\n",
    "    next_value = expected_new_q_value - log_prob\n",
    "    value_loss = value_criterion(expected_value, next_value.detach())\n",
    "\n",
    "    log_prob_target = expected_new_q_value - expected_value\n",
    "    policy_loss = (log_prob * (log_prob - log_prob_target).detach()).mean()\n",
    "    \n",
    "\n",
    "    mean_loss = mean_lambda * mean.pow(2).mean()\n",
    "    std_loss  = std_lambda  * log_std.pow(2).mean()\n",
    "    z_loss    = z_lambda    * z.pow(2).sum(1).mean()\n",
    "\n",
    "    policy_loss += mean_loss + std_loss + z_loss\n",
    "\n",
    "    soft_q_optimizer.zero_grad()\n",
    "    q_value_loss.backward()\n",
    "    soft_q_optimizer.step()\n",
    "\n",
    "    value_optimizer.zero_grad()\n",
    "    value_loss.backward()\n",
    "    value_optimizer.step()\n",
    "\n",
    "    policy_optimizer.zero_grad()\n",
    "    policy_loss.backward()\n",
    "    policy_optimizer.step()\n",
    "    \n",
    "    for target_param, param in zip(target_value_net.parameters(), value_net.parameters()):\n",
    "        target_param.data.copy_(\n",
    "            target_param.data * (1.0 - soft_tau) + param.data * soft_tau\n",
    "        )"
   ]
  },
  {
   "cell_type": "code",
   "execution_count": 4,
   "metadata": {},
   "outputs": [],
   "source": [
    "class Discriminator(nn.Module):\n",
    "    def __init__(self, num_inputs, hidden_size):\n",
    "        super(Discriminator, self).__init__()\n",
    "        \n",
    "        self.linear1   = nn.Linear(num_inputs, hidden_size)\n",
    "        self.linear2   = nn.Linear(hidden_size, hidden_size)\n",
    "        self.linear3   = nn.Linear(hidden_size, 1)\n",
    "        self.linear3.weight.data.mul_(0.1)\n",
    "        self.linear3.bias.data.mul_(0.0)\n",
    "    \n",
    "    def forward(self, x):\n",
    "        x = F.tanh(self.linear1(x))\n",
    "        x = F.tanh(self.linear2(x))\n",
    "        prob = F.sigmoid(self.linear3(x))\n",
    "        return prob\n",
    "    \n",
    "def expert_reward(state, action):\n",
    "    state_action = torch.cat((state,action),1)\n",
    "    # return -np.log(1-discriminator(state_action).cpu().data.numpy())\n",
    "#    return np.log(discriminator(state_action).cpu().data.numpy())\n",
    "    return np.log(discriminator(state_action).cpu().data.numpy()) - np.log(1-discriminator(state_action).cpu().data.numpy())"
   ]
  },
  {
   "cell_type": "code",
   "execution_count": 5,
   "metadata": {},
   "outputs": [],
   "source": [
    "def plot(frame_idx, rewards, D_fake, D_real):\n",
    "    clear_output(True)\n",
    "    plt.figure(figsize=(20,8))\n",
    "    plt.subplot(121)\n",
    "    plt.title('frame %s. reward: %s' % (frame_idx, rewards[-1]))\n",
    "    plt.plot(rewards)\n",
    "    plt.subplot(122)\n",
    "    plt.title('Agent(fake) %s  Expert(real) %s' % (D_fake[-1] ,D_real[-1]))\n",
    "    plt.plot(D_fake)\n",
    "    plt.plot(D_real)\n",
    "#    plt.subplot(223)\n",
    "#    plt.title('loss %s' % (losses[-1:]))\n",
    "#    plt.plot(losses)\n",
    "    plt.show()\n",
    "    \n",
    "def test_env(vis=False):\n",
    "    state = env.reset()\n",
    "    if vis: env.render()\n",
    "    done = False\n",
    "    total_reward = 0\n",
    "    while not done:\n",
    "        action = policy_net.get_action(state)\n",
    "#        next_state, reward, done, _ = env.step(dist.mean.detach().cpu().numpy()[0])\n",
    "        next_state, reward, done, _ = env.step(action)\n",
    "        state = next_state\n",
    "        time.sleep(0.01)\n",
    "#        print(reward)\n",
    "        if vis: env.render()\n",
    "        total_reward += reward\n",
    "    return total_reward"
   ]
  },
  {
   "cell_type": "code",
   "execution_count": 6,
   "metadata": {},
   "outputs": [],
   "source": [
    "def discriminator_update():\n",
    "    expert_state_action = expert_traj[np.random.randint(0, expert_traj.shape[0], states.shape[0]), :]\n",
    "    expert_state_action = torch.FloatTensor(expert_state_action).to(device)\n",
    "    fake = discriminator(state_actions)\n",
    "    real = discriminator(expert_state_action)\n",
    "\n",
    "#軌道がエージェント軌道である確率　agentを1 expertを0にする　エージェント的には高いほうがいいlogDの最大化\n",
    "#    discrim_loss = discrim_criterion(fake, torch.ones((states.shape[0], 1)).to(device)) + \\\n",
    "#            discrim_criterion(real, torch.zeros((expert_state_action.size(0), 1)).to(device))\n",
    "    discrim_loss = discrim_criterion(real, torch.ones((expert_state_action.size(0), 1)).to(device)) + \\\n",
    "            discrim_criterion(fake, torch.zeros((states.shape[0], 1)).to(device))\n",
    "\n",
    "    optimizer_discrim.zero_grad()\n",
    "    discrim_loss.backward()\n",
    "    optimizer_discrim.step()\n",
    "    return real,fake"
   ]
  },
  {
   "cell_type": "code",
   "execution_count": 7,
   "metadata": {
    "scrolled": true
   },
   "outputs": [],
   "source": [
    "value_net        = ValueNetwork(state_dim, hidden_dim).to(device)\n",
    "target_value_net = ValueNetwork(state_dim, hidden_dim).to(device)\n",
    "\n",
    "soft_q_net = SoftQNetwork(state_dim, action_dim, hidden_dim).to(device)\n",
    "policy_net = PolicyNetwork(state_dim, action_dim, hidden_dim).to(device)\n",
    "\n",
    "for target_param, param in zip(target_value_net.parameters(), value_net.parameters()):\n",
    "    target_param.data.copy_(param.data)\n",
    "    \n",
    "value_criterion  = nn.MSELoss()\n",
    "soft_q_criterion = nn.MSELoss()\n",
    "\n",
    "value_lr  = 3e-4\n",
    "soft_q_lr = 3e-4\n",
    "policy_lr = 3e-4\n",
    "\n",
    "value_optimizer  = optim.Adam(value_net.parameters(), lr=value_lr)\n",
    "soft_q_optimizer = optim.Adam(soft_q_net.parameters(), lr=soft_q_lr)\n",
    "policy_optimizer = optim.Adam(policy_net.parameters(), lr=policy_lr)\n",
    "\n",
    "\n",
    "replay_buffer_size = 1000000\n",
    "replay_buffer = ReplayBuffer(replay_buffer_size)\n",
    "\n",
    "#-----------------------------------------------------------------------------\n",
    "\n",
    "discriminator = Discriminator(num_inputs + num_outputs, discrim_hidden_size).to(device)\n",
    "discrim_criterion = nn.BCELoss()\n",
    "optimizer_discrim = optim.Adam(discriminator.parameters(), lr=lr)"
   ]
  },
  {
   "cell_type": "code",
   "execution_count": 8,
   "metadata": {},
   "outputs": [],
   "source": [
    "test_rewards = []\n",
    "D_real    = []\n",
    "D_fake    = []\n",
    "max_frames = 50000000000\n",
    "frame_idx = 0\n",
    "done = False"
   ]
  },
  {
   "cell_type": "code",
   "execution_count": null,
   "metadata": {},
   "outputs": [
    {
     "data": {
      "image/png": "[encoded data removed]",
      "text/plain": [
       "<Figure size 1440x576 with 2 Axes>"
      ]
     },
     "metadata": {
      "needs_background": "light"
     },
     "output_type": "display_data"
    },
    {
     "data": {
      "application/vnd.jupyter.widget-view+json": {
       "model_id": "b4917681e86e49a6b0486cccd072d71a",
       "version_major": 2,
       "version_minor": 0
      },
      "text/plain": [
       "HBox(children=(IntProgress(value=0), HTML(value='')))"
      ]
     },
     "metadata": {},
     "output_type": "display_data"
    },
    {
     "name": "stdout",
     "output_type": "stream",
     "text": [
      "\n"
     ]
    },
    {
     "data": {
      "application/vnd.jupyter.widget-view+json": {
       "model_id": "faf4802c7cd64273a36174a760afd0e3",
       "version_major": 2,
       "version_minor": 0
      },
      "text/plain": [
       "HBox(children=(IntProgress(value=0), HTML(value='')))"
      ]
     },
     "metadata": {},
     "output_type": "display_data"
    },
    {
     "name": "stdout",
     "output_type": "stream",
     "text": [
      "\n"
     ]
    },
    {
     "data": {
      "application/vnd.jupyter.widget-view+json": {
       "model_id": "80586802f64547ed830ccbf97bbee36f",
       "version_major": 2,
       "version_minor": 0
      },
      "text/plain": [
       "HBox(children=(IntProgress(value=0), HTML(value='')))"
      ]
     },
     "metadata": {},
     "output_type": "display_data"
    },
    {
     "name": "stdout",
     "output_type": "stream",
     "text": [
      "\n"
     ]
    },
    {
     "data": {
      "application/vnd.jupyter.widget-view+json": {
       "model_id": "507889f8594b4d31b92a7b39e05b00d3",
       "version_major": 2,
       "version_minor": 0
      },
      "text/plain": [
       "HBox(children=(IntProgress(value=0), HTML(value='')))"
      ]
     },
     "metadata": {},
     "output_type": "display_data"
    },
    {
     "name": "stdout",
     "output_type": "stream",
     "text": [
      "\n"
     ]
    },
    {
     "data": {
      "application/vnd.jupyter.widget-view+json": {
       "model_id": "95f545cf9e314ca6a01bd2f66f76ea45",
       "version_major": 2,
       "version_minor": 0
      },
      "text/plain": [
       "HBox(children=(IntProgress(value=0), HTML(value='')))"
      ]
     },
     "metadata": {},
     "output_type": "display_data"
    },
    {
     "name": "stdout",
     "output_type": "stream",
     "text": [
      "\n"
     ]
    },
    {
     "data": {
      "application/vnd.jupyter.widget-view+json": {
       "model_id": "592242d5b01b4030992fd9d6059c02b0",
       "version_major": 2,
       "version_minor": 0
      },
      "text/plain": [
       "HBox(children=(IntProgress(value=0), HTML(value='')))"
      ]
     },
     "metadata": {},
     "output_type": "display_data"
    },
    {
     "name": "stdout",
     "output_type": "stream",
     "text": [
      "\n"
     ]
    },
    {
     "data": {
      "application/vnd.jupyter.widget-view+json": {
       "model_id": "017d52a261e64c8daa4f493a6cb3daf5",
       "version_major": 2,
       "version_minor": 0
      },
      "text/plain": [
       "HBox(children=(IntProgress(value=0), HTML(value='')))"
      ]
     },
     "metadata": {},
     "output_type": "display_data"
    },
    {
     "name": "stdout",
     "output_type": "stream",
     "text": [
      "\n"
     ]
    },
    {
     "data": {
      "application/vnd.jupyter.widget-view+json": {
       "model_id": "b251909e6ab04c7fa4892327b70c217f",
       "version_major": 2,
       "version_minor": 0
      },
      "text/plain": [
       "HBox(children=(IntProgress(value=0), HTML(value='')))"
      ]
     },
     "metadata": {},
     "output_type": "display_data"
    },
    {
     "name": "stdout",
     "output_type": "stream",
     "text": [
      "\n"
     ]
    },
    {
     "data": {
      "application/vnd.jupyter.widget-view+json": {
       "model_id": "210b2bd42a204c30bbc77941dc05df7a",
       "version_major": 2,
       "version_minor": 0
      },
      "text/plain": [
       "HBox(children=(IntProgress(value=0), HTML(value='')))"
      ]
     },
     "metadata": {},
     "output_type": "display_data"
    },
    {
     "name": "stdout",
     "output_type": "stream",
     "text": [
      "\n"
     ]
    },
    {
     "data": {
      "application/vnd.jupyter.widget-view+json": {
       "model_id": "30d7ea5e52d44e4c9a34ca6489a284ed",
       "version_major": 2,
       "version_minor": 0
      },
      "text/plain": [
       "HBox(children=(IntProgress(value=0), HTML(value='')))"
      ]
     },
     "metadata": {},
     "output_type": "display_data"
    },
    {
     "name": "stdout",
     "output_type": "stream",
     "text": [
      "\n",
      "10000\n"
     ]
    }
   ],
   "source": [
    "# 最大フレームまでエポックループ\n",
    "while frame_idx < max_frames:\n",
    "    log_probs = []\n",
    "    values    = []\n",
    "    states    = []\n",
    "    actions   = []\n",
    "    rewards   = []\n",
    "    masks     = []\n",
    "    returns   = []\n",
    "\n",
    "    # 更新バッファサイズまでエピソードループ\n",
    "    while len(states) < min_buffer_size:\n",
    "        state = env.reset()\n",
    "        rewards_ = []\n",
    "        masks_ = []\n",
    "        values_ = []\n",
    "        \n",
    "        # エピソード終了までタイムステップループ\n",
    "        for i in tqdm(range(1, num_steps+1)):\n",
    "            action = policy_net.get_action(state)\n",
    "            next_state, reward, done, _ = env.step(action)\n",
    "            \n",
    "            \n",
    "            \n",
    "            \n",
    "            \n",
    "            \n",
    "            \n",
    "            \n",
    "            \n",
    "            \n",
    "            \n",
    "            \n",
    "            state_tensor = torch.FloatTensor(np.reshape(state, (1,-1))).to(device)\n",
    "            action_tensor = torch.FloatTensor(np.reshape(action, (1,-1))).to(device)\n",
    "            exp_reward = expert_reward(state_tensor, action_tensor)\n",
    "            exp_reward = np.reshape(exp_reward, (-1,))\n",
    "            \n",
    "            replay_buffer.push(state, action, exp_reward, next_state, done)\n",
    "            if len(replay_buffer) > batch_size:\n",
    "                soft_q_update(batch_size)\n",
    "            if i == num_steps:\n",
    "                done == True\n",
    "\n",
    "            # log\n",
    "            states.append(state_tensor)\n",
    "            actions.append(action_tensor)            \n",
    "\n",
    "            state = next_state\n",
    "            frame_idx += 1\n",
    "            \n",
    "            if done:\n",
    "                break   \n",
    "\n",
    "        # エピソード終了後\n",
    "#        print(\"done time:\", i, \"episode reward:\")\n",
    "        next_state = torch.FloatTensor(next_state).to(device)\n",
    "    print(frame_idx)\n",
    "    states    = torch.cat(states).to(device)\n",
    "    actions   = torch.cat(actions).to(device)\n",
    "\n",
    "    # Discriminator\n",
    "    state_actions = torch.cat([states, actions], 1)\n",
    "    for _ in range(num_D_updates):\n",
    "        real, fake = discriminator_update()\n",
    "\n",
    "\n",
    "    # Test\n",
    "    test_reward = np.mean([test_env() for _ in range(3)])\n",
    "    test_rewards.append(test_reward)\n",
    "    D_real.append(torch.mean(real).data.cpu().numpy())\n",
    "    D_fake.append(torch.mean(fake).data.cpu().numpy())\n",
    "    plot(frame_idx, test_rewards, D_fake, D_real)"
   ]
  },
  {
   "cell_type": "code",
   "execution_count": null,
   "metadata": {},
   "outputs": [],
   "source": [
    "test_env(True)"
   ]
  },
  {
   "cell_type": "code",
   "execution_count": null,
   "metadata": {},
   "outputs": [],
   "source": [
    "# model save\n",
    "\n",
    "MODEL_PATH_ACTOR = 'asset/GAIL/GAIL_actor.pth'\n",
    "MODEL_PATH_CRITIC = 'asset/GAIL/GAIL_critic.pth'\n",
    "MODEL_PATH_DISCRIMINATOR = 'asset/GAIL/GAIL_discriminator.pth'\n",
    "\n",
    "torch.save(actor.state_dict(), MODEL_PATH_ACTOR)\n",
    "torch.save(critic.state_dict(), MODEL_PATH_CRITIC)\n",
    "torch.save(discriminator.state_dict(), MODEL_PATH_DISCRIMINATOR)\n"
   ]
  },
  {
   "cell_type": "code",
   "execution_count": null,
   "metadata": {},
   "outputs": [],
   "source": [
    "200 256 収束120ステップ"
   ]
  }
 ],
 "metadata": {
  "kernelspec": {
   "display_name": "RL-a",
   "language": "python",
   "name": "rl-a"
  },
  "language_info": {
   "codemirror_mode": {
    "name": "ipython",
    "version": 3
   },
   "file_extension": ".py",
   "mimetype": "text/x-python",
   "name": "python",
   "nbconvert_exporter": "python",
   "pygments_lexer": "ipython3",
   "version": "3.5.2"
  }
 },
 "nbformat": 4,
 "nbformat_minor": 2
}
